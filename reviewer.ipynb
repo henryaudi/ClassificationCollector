{
 "cells": [
  {
   "cell_type": "code",
   "execution_count": 6,
   "metadata": {
    "collapsed": true,
    "ExecuteTime": {
     "end_time": "2024-02-19T21:43:53.455632100Z",
     "start_time": "2024-02-19T21:43:53.450037300Z"
    }
   },
   "outputs": [],
   "source": [
    "import csv\n",
    "\n",
    "def classify_statements(input_file):\n",
    "    while True:\n",
    "        user_id = input(\"Please enter your user ID or type 'EXIT' to quit: \").strip()\n",
    "\n",
    "        # User quit the program.\n",
    "        if user_id.upper() == 'EXIT':\n",
    "            print('Closing the program...')\n",
    "            return\n",
    "\n",
    "        # Read the input csv file.\n",
    "        with open(input_file, mode='r', encoding='utf-8', newline='') as file:\n",
    "            reader = csv.reader(file)\n",
    "            headers = next(reader)\n",
    "            rows = [row for row in reader]\n",
    "\n",
    "        # Determine if the user id has already existed.\n",
    "        user_column_header = f'user_{user_id}'\n",
    "        if user_column_header in headers:\n",
    "            print(f\"User {user_id} has already made an attempt!\")\n",
    "            continue\n",
    "        else:\n",
    "            headers.append(user_column_header)\n",
    "            break\n",
    "\n",
    "    user_responses = []\n",
    "\n",
    "    for row in rows:\n",
    "        # Extract the first two columns for file_name and statement\n",
    "        file_name, statement = row[:2]\n",
    "        print(\"------------------------------------------------\")\n",
    "        print(f\"File Name: {file_name}\\nStatement: {statement}\")\n",
    "        response = input(\"Is this an environmental statement? (0: No, 1: Yes, 2: Uncertain): \").strip()\n",
    "        # In case user didn't read the prompt 🤦‍♂️\n",
    "        while response not in ['0', '1', '2']:\n",
    "            print(\"[WARNING] Invalid input. Please ONLY choose from '0', '1', or '2'.\")\n",
    "            response = input(\"Classify the statement (0: Not Environment, 1: Environment, 2: Uncertain): \").strip()\n",
    "        user_responses.append(response)\n",
    "\n",
    "    for i, row in enumerate(rows):\n",
    "        while len(row) < len(headers):\n",
    "            row.append('')1\n",
    "        col = headers.index(user_column_header)\n",
    "        row[col] = user_responses[i]\n",
    "\n",
    "    # Write the user response to the csv file\n",
    "    with open(input_file, mode='w', encoding='utf-8', newline='') as file:\n",
    "        writer = csv.writer(file)\n",
    "        writer.writerow(headers)\n",
    "        writer.writerows(rows)\n",
    "\n",
    "    print(\"------------------The End------------------\")\n",
    "    print(\"---------------Thank you!------------------\")"
   ]
  },
  {
   "cell_type": "code",
   "execution_count": 7,
   "outputs": [
    {
     "name": "stdout",
     "output_type": "stream",
     "text": [
      "------------------------------------------------\n",
      "File Name: f2210f--2017\n",
      "Statement: For 2017, the personal exemption remains at $4,050.\n",
      "------------------------------------------------\n",
      "File Name: f2210f--2017\n",
      "Statement: itemized deductions for taxpayers with adjusted gross incomes above $156,900 may be reduced\n",
      "------------------------------------------------\n",
      "File Name: f2210f--2017\n",
      "Statement: If you are an individual, estate, or trust and at least two-thirds of your 2016 or 2017 gross income is from farming or fishing, use Form 2210-F to see if you owe a penalty for underpaying your estimated tax.  \n",
      "------------------------------------------------\n",
      "File Name: f2210f--2017\n",
      "Statement: If you checked box A or B in Part I of Form 2210-F, you must figure the penalty yourself and attach the completed form to your return.\n",
      "------------------------------------------------\n",
      "File Name: f2210f--2017\n",
      "Statement: If you didn’t check box A or B in Part I, you don’t need to figure the penalty or file Form 2210-F.\n",
      "------------------------------------------------\n",
      "File Name: f2210f--2017\n",
      "Statement: If you owe the penalty, the IRS will send you a bill.\n",
      "------------------The End------------------\n",
      "---------------Thank you!------------------\n"
     ]
    }
   ],
   "source": [
    "# Test\n",
    "input_csv = 'annotation_01.csv'\n",
    "\n",
    "classify_statements(input_csv)"
   ],
   "metadata": {
    "collapsed": false,
    "ExecuteTime": {
     "end_time": "2024-02-19T21:44:06.120326200Z",
     "start_time": "2024-02-19T21:43:53.455632100Z"
    }
   }
  }
 ],
 "metadata": {
  "kernelspec": {
   "display_name": "Python 3",
   "language": "python",
   "name": "python3"
  },
  "language_info": {
   "codemirror_mode": {
    "name": "ipython",
    "version": 2
   },
   "file_extension": ".py",
   "mimetype": "text/x-python",
   "name": "python",
   "nbconvert_exporter": "python",
   "pygments_lexer": "ipython2",
   "version": "2.7.6"
  }
 },
 "nbformat": 4,
 "nbformat_minor": 0
}
